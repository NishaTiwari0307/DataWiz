{
 "cells": [
  {
   "cell_type": "code",
   "execution_count": null,
   "id": "2d8246c1-18a9-482c-9396-d7d60632cc7c",
   "metadata": {},
   "outputs": [],
   "source": [
    "#import libraries\n",
    "import pandas as pd\n",
    "import numpy as np\n",
    "import matplotlib.pyplot as plt\n",
    "import seaborn as sns\n",
    "import re\n",
    "import nltk\n",
    "from nltk.corpus import stopwords\n",
    "from nltk.stem import WordNetLemmatizer\n",
    "from sklearn.preprocessing import LabelEncoder\n",
    "from sklearn.model_selection import train_test_split\n",
    "from sklearn.feature_extraction.text import TfidfVectorizer\n",
    "from sklearn.linear_model import LogisticRegression\n",
    "from sklearn.naive_bayes import MultinomialNB\n",
    "from sklearn.svm import SVC\n",
    "from sklearn.metrics import ConfusionMatrixDisplay\n",
    "from sklearn.metrics import accuracy_score, classification_report, confusion_matrix, roc_auc_score"
   ]
  },
  {
   "cell_type": "code",
   "execution_count": null,
   "id": "54e0cba6-d44f-4386-b854-e97485445513",
   "metadata": {},
   "outputs": [],
   "source": [
    "#PartB: load dataset\n",
    "news_df=pd.read_csv(r'C:\\Users\\user\\Downloads\\data_news - data_news.csv')\n",
    "news_df.head()"
   ]
  },
  {
   "cell_type": "code",
   "execution_count": null,
   "id": "6052089d-05d8-40ce-8a4f-d600e65ecd2a",
   "metadata": {},
   "outputs": [],
   "source": [
    "#1. Data Collection and Preprocessing\n",
    "news_df.head()\n",
    "news_df.info()\n",
    "news_df['category'].value_counts()"
   ]
  },
  {
   "cell_type": "code",
   "execution_count": null,
   "id": "5c9afee2-f039-45c6-bb91-ba48b7b424ae",
   "metadata": {},
   "outputs": [],
   "source": [
    "sns.countplot(x='category', data=news_df)\n",
    "plt.title(\"Category Distribution\")\n",
    "plt.xticks(rotation=45)\n",
    "plt.show()\n"
   ]
  },
  {
   "cell_type": "code",
   "execution_count": null,
   "id": "cb932695-a123-4ac0-82a2-d38f6d8e605a",
   "metadata": {},
   "outputs": [],
   "source": [
    "stop_words = set(stopwords.words('english'))\n",
    "lemmatizer = WordNetLemmatizer()\n",
    "\n",
    "def preprocess(text):\n",
    "    if pd.isnull(text):\n",
    "        return \"\"\n",
    "    text = re.sub(r'<.*?>', '', str(text))             # Remove HTML tags\n",
    "    text = re.sub(r'[^a-zA-Z]', ' ', text)             # Remove non-letter characters\n",
    "    text = text.lower()                                # Convert to lowercase\n",
    "    tokens = text.split()                              # Tokenize\n",
    "    tokens = [lemmatizer.lemmatize(w) for w in tokens if w not in stop_words]\n",
    "    return \" \".join(tokens)\n",
    "\n",
    "news_df['cleaned_text'] = news_df['short_description'].apply(preprocess)"
   ]
  },
  {
   "cell_type": "code",
   "execution_count": null,
   "id": "ba8f9236-d48b-429e-b86d-d809fdfd4d18",
   "metadata": {},
   "outputs": [],
   "source": [
    "#2. Feature Extraction \n",
    "tfidf = TfidfVectorizer(max_features=5000)\n",
    "X = tfidf.fit_transform(news_df['cleaned_text']).toarray()\n",
    "\n",
    "le = LabelEncoder()\n",
    "y = le.fit_transform(news_df['category'])  # Converts labels to integers"
   ]
  },
  {
   "cell_type": "code",
   "execution_count": null,
   "id": "1b0774dc-b26f-4bec-aa6d-ca0df48ca916",
   "metadata": {},
   "outputs": [],
   "source": [
    "# 3. Model Development and Training \n",
    "X_train, X_test, y_train, y_test = train_test_split(X, y, test_size=0.2, random_state=42, stratify=y)"
   ]
  },
  {
   "cell_type": "code",
   "execution_count": null,
   "id": "8acf4245-2778-41b6-a7af-a7ae1d81627c",
   "metadata": {},
   "outputs": [],
   "source": [
    "models = {\n",
    "    \"Logistic Regression\": LogisticRegression(max_iter=1000),\n",
    "    \"Naive Bayes\": MultinomialNB(),\n",
    "    \"SVM\": SVC(kernel='linear')\n",
    "}\n",
    "\n",
    "for name, model in models.items():\n",
    "    model.fit(X_train, y_train)\n",
    "    y_pred = model.predict(X_test)\n",
    "    print(f\"===== {name} =====\")\n",
    "    print(classification_report(y_test, y_pred, target_names=le.classes_))\n",
    "    print(\"Accuracy:\", accuracy_score(y_test, y_pred))\n",
    "    print()\n"
   ]
  },
  {
   "cell_type": "code",
   "execution_count": null,
   "id": "1bb1222b-a2cc-4992-af9d-75c0ca61b482",
   "metadata": {},
   "outputs": [],
   "source": [
    "# 4. Model Evaluation\n",
    "best_model = LogisticRegression(max_iter=1000)\n",
    "best_model.fit(X_train, y_train)\n",
    "y_pred = best_model.predict(X_test)\n",
    "\n",
    "ConfusionMatrixDisplay.from_predictions(y_test, y_pred, display_labels=le.classes_, cmap='Blues')\n",
    "plt.title(\"Confusion Matrix - Logistic Regression\")\n",
    "plt.show()\n"
   ]
  },
  {
   "cell_type": "code",
   "execution_count": null,
   "id": "ab95ab7c-9703-45c4-a087-218a4a23c9d2",
   "metadata": {},
   "outputs": [],
   "source": [
    "feature_names = tfidf.get_feature_names_out()\n",
    "coefs = best_model.coef_\n",
    "\n",
    "for i, class_label in enumerate(le.classes_):\n",
    "    top_features = np.argsort(coefs[i])[-10:]\n",
    "    print(f\"Top words for {class_label}:\")\n",
    "    print([feature_names[j] for j in top_features][::-1])\n",
    "    print()"
   ]
  },
  {
   "cell_type": "code",
   "execution_count": null,
   "id": "17bca439-f1d0-42fc-8f2d-69c32a9c4368",
   "metadata": {},
   "outputs": [],
   "source": [
    "'''Insights:\n",
    "This model performs best on categories with domain-specific terms (Food, Sports, Style).\n",
    "No deep semantic understanding.\n",
    "Struggles with overlapping categories\n",
    "Logistic Regression achieved the accuracy of 65.87%, with strong performance on categories like Style & Beauty, Food & Drink, and Sports.'''"
   ]
  },
  {
   "cell_type": "code",
   "execution_count": null,
   "id": "34029196-a1cf-41fb-9fe3-4d1d37f9e053",
   "metadata": {},
   "outputs": [],
   "source": []
  }
 ],
 "metadata": {
  "kernelspec": {
   "display_name": "Python 3 (ipykernel)",
   "language": "python",
   "name": "python3"
  },
  "language_info": {
   "codemirror_mode": {
    "name": "ipython",
    "version": 3
   },
   "file_extension": ".py",
   "mimetype": "text/x-python",
   "name": "python",
   "nbconvert_exporter": "python",
   "pygments_lexer": "ipython3",
   "version": "3.12.4"
  }
 },
 "nbformat": 4,
 "nbformat_minor": 5
}
